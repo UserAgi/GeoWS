{
 "cells": [
  {
   "cell_type": "markdown",
   "id": "ef9b9469",
   "metadata": {},
   "source": [
    "# WiMLDS Zürich: Sneak peek at Geodata"
   ]
  },
  {
   "cell_type": "markdown",
   "id": "aff04a2a",
   "metadata": {},
   "source": [
    "SIT Academy, 18.05.2022\n",
    "\n",
    "Authors: WiMLDS Zurich // Litix // DIA \n",
    "\n",
    "You can use content from this notebook in your own analyses and projects. If you do, please drop us a message: zurich@wimlds.org, teresa@litix.ch or gubicza_agi@yahoo.co.uk"
   ]
  },
  {
   "cell_type": "code",
   "execution_count": null,
   "id": "3e646a5c",
   "metadata": {},
   "outputs": [],
   "source": [
    "#import packages\n",
    "\n",
    "from ipyleaflet import Map, WMSLayer, basemaps, projections"
   ]
  },
  {
   "cell_type": "markdown",
   "id": "578b9d44",
   "metadata": {},
   "source": [
    "## Practice 1: load and transform"
   ]
  },
  {
   "cell_type": "markdown",
   "id": "5deb4976",
   "metadata": {},
   "source": [
    "In this exercise we load and transform different kinds of geodata."
   ]
  },
  {
   "cell_type": "markdown",
   "id": "6cd75988",
   "metadata": {},
   "source": [
    "#### Step 1: load background map"
   ]
  },
  {
   "cell_type": "markdown",
   "id": "42299731",
   "metadata": {},
   "source": [
    "Create a base map:"
   ]
  },
  {
   "cell_type": "code",
   "execution_count": null,
   "id": "2f4ef333",
   "metadata": {},
   "outputs": [],
   "source": [
    "# create a base map with OpenStreetMaps\n",
    "m = Map(center=(47.350, 8.560), zoom=15)\n",
    "\n",
    "# show the interactive raster map\n",
    "m"
   ]
  },
  {
   "cell_type": "markdown",
   "id": "29d8bcc9",
   "metadata": {},
   "source": [
    "Load background map (WMS)"
   ]
  },
  {
   "cell_type": "code",
   "execution_count": null,
   "id": "de96d7da",
   "metadata": {},
   "outputs": [],
   "source": [
    "# add a layer on top, for example orthophotos:\n",
    "m = Map(center=(47.350, 8.560), zoom=15)\n",
    "\n",
    "# Orthofoto Zürich\n",
    "wms1 = WMSLayer(\n",
    "    url='http://wms.zh.ch/OGDOrthoZH',\n",
    "    layers='OGDOrthoZH',\n",
    "    format='image/png',\n",
    "    transparent=True,\n",
    "    attribution='GIS-ZH'\n",
    ")\n",
    "\n",
    "m.add_layer(wms1)\n",
    "\n",
    "m"
   ]
  },
  {
   "cell_type": "markdown",
   "id": "1afef40e",
   "metadata": {},
   "source": [
    "The following shows other sources which we can use as layers:"
   ]
  },
  {
   "cell_type": "code",
   "execution_count": null,
   "id": "d64837fb",
   "metadata": {
    "hide_input": false
   },
   "outputs": [],
   "source": [
    "# other sources:\n",
    "m = Map(center=(47.350, 8.560), zoom=15)\n",
    "\n",
    "\n",
    "# OverviewMap\n",
    "wms2 = WMSLayer(\n",
    "    url='http://wms.zh.ch/upwms/',\n",
    "    layers='upwms',\n",
    "    format='image/png',\n",
    "    transparent=False,\n",
    "    attribution='GIS-ZH'\n",
    ")\n",
    "\n",
    "# Swissimage\n",
    "wms3 = WMSLayer(\n",
    "    url='https://wms.geo.admin.ch/',\n",
    "    layers='ch.swisstopo.swissimage',\n",
    "    format='image/png',\n",
    "    transparent=True,\n",
    "    attribution='swisstopo'\n",
    ")\n",
    "\n",
    "# Pixelkarte\n",
    "wms4 = WMSLayer(\n",
    "    url='https://wms.geo.admin.ch/',\n",
    "    layers='ch.swisstopo.pixelkarte-farbe',\n",
    "    format='image/png',\n",
    "    transparent=True,\n",
    "    attribution='swisstopo'\n",
    ")\n",
    "\n",
    "# wms3, wms4 are full maps, but wms2 can also be transparent\n",
    "\n",
    "m.add_layer(wms2)\n",
    "m"
   ]
  },
  {
   "cell_type": "markdown",
   "id": "ba8eb2be",
   "metadata": {},
   "source": [
    "#### Step 2: Load bus stops, roads and lakes"
   ]
  },
  {
   "cell_type": "markdown",
   "id": "42c57c04",
   "metadata": {},
   "source": [
    "Option 1: Overlay on the raster layer with additional raster layers"
   ]
  },
  {
   "cell_type": "code",
   "execution_count": null,
   "id": "e042a632",
   "metadata": {},
   "outputs": [],
   "source": [
    "# do we always need to recreate the m? \n",
    "m = Map(center=(47.350, 8.560), zoom=15)\n",
    "\n",
    "# Public transport stops\n",
    "wms1 = WMSLayer(\n",
    "    url='https://wms.geo.admin.ch/',\n",
    "    layers='ch.bav.haltestellen-oev',\n",
    "    format='image/png',\n",
    "    transparent=True,\n",
    "    attribution='swisstopo'\n",
    ")\n",
    "\n",
    "# Streets\n",
    "wms2 = WMSLayer(\n",
    "    url='https://wms.geo.admin.ch/',\n",
    "    layers='ch.swisstopo.swisstlm3d-strassen',\n",
    "    format='image/png',\n",
    "    transparent=True,\n",
    "    attribution='swisstopo'\n",
    ")\n",
    "\n",
    "# Rivers and lakes\n",
    "wms3 = WMSLayer(\n",
    "    url='https://wms.geo.admin.ch/',\n",
    "    layers='ch.swisstopo.swisstlm3d-gewaessernetz',\n",
    "    format='image/png',\n",
    "    transparent=True,\n",
    "    attribution='swisstopo'\n",
    ")\n",
    "\n",
    "\n",
    "m.add_layer(wms3)\n",
    "m.add_layer(wms2)\n",
    "m.add_layer(wms1)\n",
    "\n",
    "# note the order of the layers! what do you think, what is the reason for this order? Try to rearrange and / or\n",
    "# change the layer transparency from True to False. what do you observe?\n",
    "# 5 min to play with the order of layers \n",
    "\n",
    "m\n",
    "\n"
   ]
  },
  {
   "cell_type": "markdown",
   "id": "f25ea97c",
   "metadata": {},
   "source": [
    "#### Option 2: We can also use vector layers"
   ]
  },
  {
   "cell_type": "code",
   "execution_count": null,
   "id": "3bcdbdd7",
   "metadata": {},
   "outputs": [],
   "source": [
    "# import some useful packages\n",
    "\n",
    "from owslib.wfs import WebFeatureService\n",
    "import geopandas as gpd\n",
    "from requests import Request\n",
    "from owslib.wfs import WebFeatureService"
   ]
  },
  {
   "cell_type": "code",
   "execution_count": null,
   "id": "93c2ba9f",
   "metadata": {},
   "outputs": [],
   "source": [
    "# until now we used the wMs -> map services, now wFs -> feature layers \n",
    "# additional info: about every object on the layer \n",
    "\n",
    "# public transport stops\n",
    "\n",
    "# URL for WFS backend\n",
    "url = \"http://maps.zh.ch/wfs/HaltestellenZHWFS\"\n",
    "\n",
    "# Initialize\n",
    "wfs = WebFeatureService(url=url)\n",
    "\n",
    "# Service provider \n",
    "print(wfs.identification.title)\n",
    "\n",
    "# Get WFS version\n",
    "print(wfs.version)\n",
    "\n",
    "# Available methods\n",
    "print([operation.name for operation in wfs.operations])\n",
    "\n",
    "# Available data layers\n",
    "# there can be more layers than 1, just here we have 1 \n",
    "print(list(wfs.contents))"
   ]
  },
  {
   "cell_type": "code",
   "execution_count": null,
   "id": "747281e0",
   "metadata": {},
   "outputs": [],
   "source": [
    "# dir(wfs)"
   ]
  },
  {
   "cell_type": "markdown",
   "id": "52fe2dce",
   "metadata": {},
   "source": [
    "Link to the dataset: http://www.geolion.zh.ch/geodatensatz/883"
   ]
  },
  {
   "cell_type": "code",
   "execution_count": null,
   "id": "9a99002d",
   "metadata": {},
   "outputs": [],
   "source": [
    "# Get data from WFS\n",
    "# Specify the parameters for fetching the data\n",
    "layer = 'haltestellen'\n",
    "params = dict(service='WFS', version=\"1.0.0\", request='GetFeature',\n",
    "      typeName=layer, outputFormat='geojson')\n",
    "\n",
    "# Parse the URL with parameters\n",
    "# only use it to create the url\n",
    "q = Request('GET', url, params=params).prepare().url\n",
    "\n",
    "# geopandas can read directly from a URL\n",
    "stops = gpd.read_file(q) "
   ]
  },
  {
   "cell_type": "code",
   "execution_count": null,
   "id": "f2689695",
   "metadata": {},
   "outputs": [],
   "source": [
    "# stops is the resulting geodataframe with geo and symbiological information \n",
    "# stops.iloc[0]\n",
    "stops.head()"
   ]
  },
  {
   "cell_type": "code",
   "execution_count": null,
   "id": "5c3b5115",
   "metadata": {},
   "outputs": [],
   "source": [
    "stops.symb_text.unique() # eg stop categories are a type of symbiology"
   ]
  },
  {
   "cell_type": "code",
   "execution_count": null,
   "id": "e4af47ed",
   "metadata": {},
   "outputs": [],
   "source": [
    "# try to change the color coding! use the parameter \"column\"\n",
    "stops.plot(column = stops.symb_text, kind = 'geo', figsize = (15,15), legend = True) "
   ]
  },
  {
   "cell_type": "code",
   "execution_count": null,
   "id": "fa48683b",
   "metadata": {
    "hide_input": false
   },
   "outputs": [],
   "source": [
    "# The previous example showed points on a vector layer, let's see some lines (streets):\n",
    "# URL for WFS backend\n",
    "url = \"http://maps.zh.ch/wfs/TBAStrZHWFS\"\n",
    "# how to get these? \n",
    "\n",
    "# Initialize\n",
    "wfs = WebFeatureService(url=url)\n",
    "\n",
    "# Get data from WFS\n",
    "# Specify the parameters for fetching the data\n",
    "layer = 'strassenachsen'\n",
    "params = dict(service='WFS', version=\"1.0.0\", request='GetFeature',\n",
    "      typeName=layer, outputFormat='geojson')\n",
    "\n",
    "# Parse the URL with parameters\n",
    "q = Request('GET', url, params=params).prepare().url\n",
    "\n",
    "streets = gpd.read_file(q)\n"
   ]
  },
  {
   "cell_type": "markdown",
   "id": "5940806d",
   "metadata": {},
   "source": [
    "##### Can you plot the streets? "
   ]
  },
  {
   "cell_type": "code",
   "execution_count": null,
   "id": "74039e98",
   "metadata": {},
   "outputs": [],
   "source": [
    "#... here goes your code"
   ]
  },
  {
   "cell_type": "markdown",
   "id": "c3db565f",
   "metadata": {},
   "source": [
    "*Answer hidden below:* "
   ]
  },
  {
   "cell_type": "code",
   "execution_count": null,
   "id": "ea4a0bda",
   "metadata": {
    "hide_input": true,
    "scrolled": true
   },
   "outputs": [],
   "source": [
    "streets.plot(column = streets.strasstyp, kind = 'geo', figsize = (20,20), legend = True)"
   ]
  },
  {
   "cell_type": "code",
   "execution_count": null,
   "id": "99709231",
   "metadata": {},
   "outputs": [],
   "source": [
    "# Let's plot polygons (here the ground cover of buildings)\n",
    "\n",
    "# URL for WFS backend\n",
    "url = \"http://maps.zh.ch/wfs/AVZHWFS\"\n",
    "\n",
    "# Initialize\n",
    "wfs = WebFeatureService(url=url)\n",
    "\n",
    "# Get data from WFS\n",
    "# Specify the parameters for fetching the data\n",
    "# Also specify a bounding box (2km x 2km) in order to get less data\n",
    "layer = 'bodenbedeckung_f'\n",
    "bbox=\"2684000,1244000,2686000,1246000\" \n",
    "# how to find the bbox in advance? \n",
    "# maps.zh.ch, look at the mouse coords in bottom left \n",
    "# 2692824 / 1247783 -> horz / vertical \n",
    "# swiss coordinate system, 1 unit is one meter, 2686000-2684000 = 2km\n",
    "# only the data that touch this box is delivered -> they can go out of the box too -> look at the blue polygons in bottom left corner \n",
    "# you really want to do it, b/c otherwise you will download all the data \n",
    "\n",
    "params = dict(service='WFS', version=\"1.0.0\", request='GetFeature',\n",
    "      typeName=layer, outputFormat='geojson', bbox=bbox)\n",
    "\n",
    "# Parse the URL with parameters\n",
    "q = Request('GET', url, params=params).prepare().url\n",
    "\n",
    "buildings = gpd.read_file(q)"
   ]
  },
  {
   "cell_type": "code",
   "execution_count": null,
   "id": "a6051d37",
   "metadata": {},
   "outputs": [],
   "source": [
    "buildings.iloc[0]"
   ]
  },
  {
   "cell_type": "code",
   "execution_count": null,
   "id": "859e6b7e",
   "metadata": {},
   "outputs": [],
   "source": [
    "buildings.art.unique()"
   ]
  },
  {
   "cell_type": "code",
   "execution_count": null,
   "id": "28da5862",
   "metadata": {},
   "outputs": [],
   "source": [
    "# what is in the geodata column?\n",
    "buildings.iloc[0].geometry"
   ]
  },
  {
   "cell_type": "markdown",
   "id": "0290df00",
   "metadata": {},
   "source": [
    "##### Can you plot the polygons? "
   ]
  },
  {
   "cell_type": "code",
   "execution_count": null,
   "id": "223f8072",
   "metadata": {},
   "outputs": [],
   "source": [
    "# ... here goes your code!"
   ]
  },
  {
   "cell_type": "markdown",
   "id": "ad00ce27",
   "metadata": {},
   "source": [
    "*Answer hidden below:* "
   ]
  },
  {
   "cell_type": "code",
   "execution_count": null,
   "id": "7415a735",
   "metadata": {
    "hide_input": true,
    "scrolled": true
   },
   "outputs": [],
   "source": [
    "buildings.plot(column = buildings.art, kind = 'geo', figsize = (20,20), legend = True)"
   ]
  },
  {
   "cell_type": "markdown",
   "id": "c06f7824",
   "metadata": {},
   "source": [
    "##### Can you overlay the streets with the stops?"
   ]
  },
  {
   "cell_type": "code",
   "execution_count": null,
   "id": "362d9e2b",
   "metadata": {},
   "outputs": [],
   "source": [
    "# ... here goes your code!"
   ]
  },
  {
   "cell_type": "markdown",
   "id": "9b3c99e0",
   "metadata": {
    "hide_input": true
   },
   "source": [
    "*Answer hidden below:* "
   ]
  },
  {
   "cell_type": "code",
   "execution_count": null,
   "id": "1c2fc2b8",
   "metadata": {
    "hide_input": true
   },
   "outputs": [],
   "source": [
    "# Let's overlay the streets with the stops:\n",
    "base = streets.plot(column = streets.strasstyp, figsize = (20,20))\n",
    "\n",
    "stops.plot(ax=base, column = stops.symb_code, markersize=7);"
   ]
  },
  {
   "cell_type": "markdown",
   "id": "a5ae60e6",
   "metadata": {
    "hide_input": false
   },
   "source": [
    "##### Can you overlay the bulidings and the roads? Do they match? Can you zoom in?"
   ]
  },
  {
   "cell_type": "code",
   "execution_count": null,
   "id": "bb04cd59",
   "metadata": {},
   "outputs": [],
   "source": [
    "# ... here goes your code!"
   ]
  },
  {
   "cell_type": "markdown",
   "id": "46f25978",
   "metadata": {
    "hide_input": true
   },
   "source": [
    "*Answer hidden below:* "
   ]
  },
  {
   "cell_type": "code",
   "execution_count": null,
   "id": "9fec3ba3",
   "metadata": {
    "hide_input": true
   },
   "outputs": [],
   "source": [
    "# Solution:\n",
    "base = buildings.plot(color='white', edgecolor='black', figsize = (20,20))\n",
    "\n",
    "streets.plot(ax=base, column = streets.strasstyp)\n",
    "base.set_xlim(2.683e6, 2.688e6)\n",
    "base.set_ylim(1.2425e6, 1.247e6)"
   ]
  },
  {
   "cell_type": "markdown",
   "id": "0277b5ac",
   "metadata": {},
   "source": [
    "### NOTE!!! You can save your dataframes by pickling them, writing to excel, etc. and you can save your visuals as raster images. The methods familiar from working with pandas dataframes and matplotlib plots work here as well.\n"
   ]
  },
  {
   "cell_type": "code",
   "execution_count": null,
   "id": "5e194cf8",
   "metadata": {},
   "outputs": [],
   "source": [
    "buildings.to_csv('tmp.csv')"
   ]
  },
  {
   "cell_type": "markdown",
   "id": "d1843b79",
   "metadata": {},
   "source": [
    "# Practice 2: go to the 3rd dimension"
   ]
  },
  {
   "cell_type": "markdown",
   "id": "31833831",
   "metadata": {},
   "source": [
    "In this exercise we determine the height level of each public transport stops and calculate which stations will go under water in case the level of Lake Zürich increases significantly."
   ]
  },
  {
   "cell_type": "code",
   "execution_count": null,
   "id": "75c5ff37",
   "metadata": {},
   "outputs": [],
   "source": [
    "from owslib.wfs import WebFeatureService\n",
    "import geopandas as gpd\n",
    "from requests import Request\n",
    "import requests\n",
    "from owslib.wfs import WebFeatureService"
   ]
  },
  {
   "cell_type": "code",
   "execution_count": null,
   "id": "58a7052f",
   "metadata": {},
   "outputs": [],
   "source": [
    "# First let's query the locations of the stops close to the lake:\n",
    "\n",
    "url = \"http://maps.zh.ch/wfs/HaltestellenZHWFS\"\n",
    "layer = 'haltestellen'\n",
    "bbox=\"2680000,1230000,2710000,1250000\"\n",
    "params = dict(service='WFS', version=\"1.0.0\", request='GetFeature',\n",
    "      typeName=layer, outputFormat='geojson', bbox=bbox)\n",
    "\n",
    "# Parse the URL with parameters\n",
    "q = Request('GET', url, params=params).prepare().url\n",
    "\n",
    "stops = gpd.read_file(q)"
   ]
  },
  {
   "cell_type": "code",
   "execution_count": null,
   "id": "ad07c8f1",
   "metadata": {},
   "outputs": [],
   "source": [
    "stops.shape"
   ]
  },
  {
   "cell_type": "code",
   "execution_count": null,
   "id": "1f89e39b",
   "metadata": {},
   "outputs": [],
   "source": [
    "# we can access the properties of the geoobject:\n",
    "stops[\"geometry\"].iloc[0].x "
   ]
  },
  {
   "cell_type": "code",
   "execution_count": null,
   "id": "554f41d7",
   "metadata": {},
   "outputs": [],
   "source": [
    "# A way to query the height of a point given by x_loc and y_loc coordinates is the following:\n",
    "\n",
    "x_loc = 2685834 \n",
    "y_loc = 1244093\n",
    "url = \"https://api3.geo.admin.ch/rest/services/height?easting=\" + str(x_loc) + \"&northing=\" + str(y_loc)\n",
    "r = requests.get(url)\n",
    "height_of_point = r.json()[\"height\"]\n",
    "\n"
   ]
  },
  {
   "cell_type": "markdown",
   "id": "3c0fdd83",
   "metadata": {},
   "source": [
    "##### Can you write a cycle to query the level of all stops? How would you determine the height of the lake?"
   ]
  },
  {
   "cell_type": "code",
   "execution_count": null,
   "id": "e179a85b",
   "metadata": {
    "hide_input": false
   },
   "outputs": [],
   "source": [
    "stops.loc[0,'geometry']"
   ]
  },
  {
   "cell_type": "code",
   "execution_count": null,
   "id": "11135ec1",
   "metadata": {},
   "outputs": [],
   "source": [
    "# ... here goes your code!"
   ]
  },
  {
   "cell_type": "markdown",
   "id": "af5ac047",
   "metadata": {
    "hide_input": true
   },
   "source": [
    "*Answer hidden below:* "
   ]
  },
  {
   "cell_type": "code",
   "execution_count": null,
   "id": "d9fdd4e4",
   "metadata": {
    "hide_input": true
   },
   "outputs": [],
   "source": [
    "%%time \n",
    "\n",
    "# Solution:\n",
    "\n",
    "# level of stops:\n",
    "heights = []\n",
    "for row in stops.iterrows():\n",
    "    url = \"https://api3.geo.admin.ch/rest/services/height?easting=\" + str(row[1][\"geometry\"].x) + \"&northing=\" + str(row[1][\"geometry\"].y)\n",
    "    r = requests.get(url)\n",
    "    heights.append(r.json()[\"height\"])\n",
    "stops[\"Height\"]=heights\n",
    "\n"
   ]
  },
  {
   "cell_type": "markdown",
   "id": "ecd8a3f2",
   "metadata": {
    "hide_input": true
   },
   "source": [
    "*Answer hidden below:* "
   ]
  },
  {
   "cell_type": "code",
   "execution_count": null,
   "id": "24354b6a",
   "metadata": {
    "hide_input": true
   },
   "outputs": [],
   "source": [
    "# Solution\n",
    "\n",
    "# level of the lake: \n",
    "# using the maps from the previous exercises,using any coordinate pairs \n",
    "# corresponding to the surface of the lake will give the same result (405.9 m)\n",
    "\n",
    "url = \"https://api3.geo.admin.ch/rest/services/height?easting=\" + str(2684500.0) + \"&northing=\" + str(1245000.0)\n",
    "r = requests.get(url)\n",
    "height_of_lake = r.json()[\"height\"]\n",
    "height_of_lake"
   ]
  },
  {
   "cell_type": "markdown",
   "id": "aa5993c7",
   "metadata": {},
   "source": [
    "##### Now that we know the height of all stops around the lake, let's calculate which one would go under water if the level of the lake increases by 2 meters."
   ]
  },
  {
   "cell_type": "code",
   "execution_count": null,
   "id": "d07a21dd",
   "metadata": {},
   "outputs": [],
   "source": [
    "# ... here goes your code!"
   ]
  },
  {
   "cell_type": "markdown",
   "id": "cb82b3b8",
   "metadata": {
    "hide_input": true
   },
   "source": [
    "*Answer hidden below:* "
   ]
  },
  {
   "cell_type": "code",
   "execution_count": null,
   "id": "978ba0d2",
   "metadata": {
    "hide_input": true
   },
   "outputs": [],
   "source": [
    "# Solution:\n",
    "\n",
    "# calculate, if they become flooded:\n",
    "stops[\"flooded\"] = stops[\"Height\"].astype(float) < 407.9\n",
    "print(\"Number of stations under water at a lake height of 407.9 m: \" + str(stops[\"flooded\"].sum()))\n",
    "\n",
    "# visualize\n",
    "\n",
    "stops.plot(column = stops.flooded, figsize = (15,15)) "
   ]
  },
  {
   "cell_type": "markdown",
   "id": "5483d544",
   "metadata": {},
   "source": [
    "___"
   ]
  },
  {
   "cell_type": "markdown",
   "id": "1e7e52ce",
   "metadata": {},
   "source": [
    "Bonus exercise (without solution): \n",
    "Determine the height profile of the city of Zurich.\n",
    "Solution steps: \n",
    "1. determine an x-y grid covering the area of the city. \n",
    "2. Write a cycle to query the height of all grid points. \n",
    "3. Visualize the height level on a colormap and/or on a 3d plot."
   ]
  },
  {
   "cell_type": "code",
   "execution_count": null,
   "id": "9e21e16d",
   "metadata": {},
   "outputs": [],
   "source": [
    "# ... here goes your code!\n",
    "# There is no solution :) "
   ]
  },
  {
   "cell_type": "markdown",
   "id": "202f65bc",
   "metadata": {},
   "source": [
    "# Practice 3: points within polygons"
   ]
  },
  {
   "cell_type": "markdown",
   "id": "11c3e63d",
   "metadata": {},
   "source": [
    "Let's look at the previous problem in a different way. It is possible to query which areas are under danger of flooding. So we can load the flooding hazard map of the city and then see which stops are in one of the hazardous regions."
   ]
  },
  {
   "cell_type": "code",
   "execution_count": null,
   "id": "a78006e1",
   "metadata": {},
   "outputs": [],
   "source": [
    "# This is how to load the hazard map\n",
    "\n",
    "# Get data from WFS\n",
    "# Specify the parameters for fetching the data\n",
    "url = \"http://maps.zh.ch/wfs/AwelGKHWZHWFS\"\n",
    "layer = 'hw_gk'\n",
    "bbox=\"2684000,1244000,2686000,1246000\"\n",
    "params = dict(service='WFS', version=\"1.0.0\", request='GetFeature',\n",
    "      typeName=layer, outputFormat='geojson', bbox=bbox)\n",
    "\n",
    "# Parse the URL with parameters\n",
    "q = Request('GET', url, params=params).prepare().url\n",
    "\n",
    "gk = gpd.read_file(q)"
   ]
  },
  {
   "cell_type": "code",
   "execution_count": null,
   "id": "ee0445dd",
   "metadata": {},
   "outputs": [],
   "source": [
    "gk.head()"
   ]
  },
  {
   "cell_type": "markdown",
   "id": "1eb19f66",
   "metadata": {},
   "source": [
    "##### By checking the gk dataframe (gk or gk.head()), you can see that the hazardous areas are polygons. Do you know how to assess, if the stops are located within any of these polygons?"
   ]
  },
  {
   "cell_type": "code",
   "execution_count": null,
   "id": "1d42525f",
   "metadata": {},
   "outputs": [],
   "source": [
    "# ... here goes your code!"
   ]
  },
  {
   "cell_type": "markdown",
   "id": "50c2f9de",
   "metadata": {
    "hide_input": true
   },
   "source": [
    "*Answer hidden below:* "
   ]
  },
  {
   "cell_type": "code",
   "execution_count": null,
   "id": "84df21a6",
   "metadata": {
    "hide_input": true
   },
   "outputs": [],
   "source": [
    "# Solution:\n",
    "\n",
    "indanger = []\n",
    "\n",
    "for row in stops.iterrows():\n",
    "    indanger.append(gk.geometry.contains(row[1].geometry).any())\n",
    "\n",
    "stops[\"in_danger\"] = indanger \n",
    "base = gk.plot(figsize = (20,20))\n",
    "\n",
    "stops.plot(ax=base, column = stops.in_danger, markersize=100, cmap='coolwarm')\n",
    "base.set_xlim(2.6837e6, 2.6865e6)\n",
    "base.set_ylim(1.2440e6, 1.2465e6)"
   ]
  },
  {
   "cell_type": "markdown",
   "id": "4d392b2d",
   "metadata": {},
   "source": [
    "##### What are the names of endangered stops?"
   ]
  },
  {
   "cell_type": "code",
   "execution_count": null,
   "id": "6d3fd0f8",
   "metadata": {},
   "outputs": [],
   "source": [
    "# ... here goes your code!"
   ]
  },
  {
   "cell_type": "markdown",
   "id": "0dfa79d4",
   "metadata": {
    "hide_input": true
   },
   "source": [
    "*Answer hidden below:* "
   ]
  },
  {
   "cell_type": "code",
   "execution_count": null,
   "id": "ac1d8d4f",
   "metadata": {
    "hide_input": true
   },
   "outputs": [],
   "source": [
    "stops[stops['in_danger']==1]"
   ]
  },
  {
   "cell_type": "markdown",
   "id": "cf5f1658",
   "metadata": {},
   "source": [
    "## Bonus exercise:"
   ]
  },
  {
   "cell_type": "markdown",
   "id": "45b02c4c",
   "metadata": {},
   "source": [
    "##### 1. Calculate the number of stops per square km in a community (gemeinde) and visualize it on a choropleth plot."
   ]
  },
  {
   "cell_type": "code",
   "execution_count": null,
   "id": "662ee898",
   "metadata": {},
   "outputs": [],
   "source": [
    "# ... here goes your code!"
   ]
  },
  {
   "cell_type": "markdown",
   "id": "847a0c14",
   "metadata": {
    "hide_input": true
   },
   "source": [
    "*Answer hidden below:* "
   ]
  },
  {
   "cell_type": "code",
   "execution_count": null,
   "id": "d850516d",
   "metadata": {
    "hide_input": true
   },
   "outputs": [],
   "source": [
    "# Solution:\n",
    "\n",
    "# query the community borders:\n",
    "\n",
    "# URL for WFS backend\n",
    "url = \"http://maps.zh.ch/wfs/AVZHWFS\"\n",
    "\n",
    "# Initialize\n",
    "wfs = WebFeatureService(url=url)\n",
    "\n",
    "layer = 'gemeinden_f'\n",
    "params = dict(service='WFS', version=\"1.0.0\", request='GetFeature',\n",
    "      typeName=layer, outputFormat='geojson')\n",
    "\n",
    "# Parse the URL with parameters\n",
    "q = Request('GET', url, params=params).prepare().url\n",
    "\n",
    "communities = gpd.read_file(q)\n",
    "\n",
    "communities.head()"
   ]
  },
  {
   "cell_type": "markdown",
   "id": "d2086d64",
   "metadata": {
    "hide_input": true
   },
   "source": [
    "##### 2. Get all the stops again"
   ]
  },
  {
   "cell_type": "code",
   "execution_count": null,
   "id": "f61f9969",
   "metadata": {},
   "outputs": [],
   "source": [
    "# ... here goes your code!"
   ]
  },
  {
   "cell_type": "markdown",
   "id": "e7374171",
   "metadata": {
    "hide_input": true
   },
   "source": [
    "*Answer hidden below:* "
   ]
  },
  {
   "cell_type": "code",
   "execution_count": null,
   "id": "d9878d93",
   "metadata": {
    "hide_input": true
   },
   "outputs": [],
   "source": [
    "# Get all the stops again\n",
    "\n",
    "url = \"http://maps.zh.ch/wfs/HaltestellenZHWFS\"\n",
    "layer = 'haltestellen'\n",
    "params = dict(service='WFS', version=\"1.0.0\", request='GetFeature',\n",
    "      typeName=layer, outputFormat='geojson')\n",
    "\n",
    "# Parse the URL with parameters\n",
    "q = Request('GET', url, params=params).prepare().url\n",
    "\n",
    "stops = gpd.read_file(q)"
   ]
  },
  {
   "cell_type": "markdown",
   "id": "57b9039b",
   "metadata": {},
   "source": [
    "##### 3. Calculate the number of stops in each community:"
   ]
  },
  {
   "cell_type": "code",
   "execution_count": null,
   "id": "3c896ca6",
   "metadata": {},
   "outputs": [],
   "source": [
    "# ... here goes your code!"
   ]
  },
  {
   "cell_type": "markdown",
   "id": "2edb4ab2",
   "metadata": {
    "hide_input": true
   },
   "source": [
    "*Answer hidden below:* "
   ]
  },
  {
   "cell_type": "code",
   "execution_count": null,
   "id": "752220bc",
   "metadata": {
    "hide_input": true
   },
   "outputs": [],
   "source": [
    "# calculate the number of stops in each community:\n",
    "\n",
    "nr_of_stops = []\n",
    "\n",
    "for row in communities.iterrows():\n",
    "    nr_of_stops.append(stops.geometry.within(row[1].geometry).sum())\n",
    "\n",
    "communities[\"nr_of_stops\"] = nr_of_stops"
   ]
  },
  {
   "cell_type": "markdown",
   "id": "3e5ba7ef",
   "metadata": {},
   "source": [
    "##### 4. Calculate the area of each community"
   ]
  },
  {
   "cell_type": "code",
   "execution_count": null,
   "id": "8401b3b3",
   "metadata": {},
   "outputs": [],
   "source": [
    "# ... here goes your code!"
   ]
  },
  {
   "cell_type": "markdown",
   "id": "0e0a240b",
   "metadata": {
    "hide_input": true
   },
   "source": [
    "*Answer hidden below:* "
   ]
  },
  {
   "cell_type": "code",
   "execution_count": null,
   "id": "1f8a230c",
   "metadata": {
    "hide_input": true
   },
   "outputs": [],
   "source": [
    "# calculate the area of each community\n",
    "\n",
    "surface = communities['geometry'].to_crs({'proj':'cea'})\n",
    "communities[\"area (km2)\"] = surface.area / 10**6"
   ]
  },
  {
   "cell_type": "markdown",
   "id": "2a8a13b0",
   "metadata": {},
   "source": [
    "### 5. Calculate the density "
   ]
  },
  {
   "cell_type": "code",
   "execution_count": null,
   "id": "7efd38f6",
   "metadata": {},
   "outputs": [],
   "source": [
    "# ... here goes your code!"
   ]
  },
  {
   "cell_type": "markdown",
   "id": "1cc3a7f6",
   "metadata": {
    "hide_input": true
   },
   "source": [
    "*Answer hidden below:* "
   ]
  },
  {
   "cell_type": "code",
   "execution_count": null,
   "id": "d16d072e",
   "metadata": {
    "hide_input": true
   },
   "outputs": [],
   "source": [
    "communities[\"stop density\"] = communities[\"nr_of_stops\"]/communities[\"area (km2)\"]\n",
    "\n",
    "communities.plot(column = communities[\"stop density\"], cmap = 'OrRd', figsize = (15,15))"
   ]
  },
  {
   "cell_type": "markdown",
   "id": "1d3ff164",
   "metadata": {},
   "source": [
    "That's it! We hope you had fun :) "
   ]
  }
 ],
 "metadata": {
  "kernelspec": {
   "display_name": "Python 3 (ipykernel)",
   "language": "python",
   "name": "python3"
  },
  "language_info": {
   "codemirror_mode": {
    "name": "ipython",
    "version": 3
   },
   "file_extension": ".py",
   "mimetype": "text/x-python",
   "name": "python",
   "nbconvert_exporter": "python",
   "pygments_lexer": "ipython3",
   "version": "3.7.3"
  }
 },
 "nbformat": 4,
 "nbformat_minor": 5
}
